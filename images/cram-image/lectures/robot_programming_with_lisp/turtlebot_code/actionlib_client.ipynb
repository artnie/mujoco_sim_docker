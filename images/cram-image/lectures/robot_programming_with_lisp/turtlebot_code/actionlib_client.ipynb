{
 "cells": [
  {
   "cell_type": "code",
   "execution_count": null,
   "id": "9a33684a-253a-40ed-bfdf-3473bc28b545",
   "metadata": {},
   "outputs": [],
   "source": [
    "(ros-load:load-system :actionlib)\n",
    "(ros-load:load-system :move_base_msgs-msg)\n",
    "(ros-load:load-system :cl-tf)\n",
    "\n",
    "(defvar *move-base-client* nil)\n",
    "\n",
    "(defun init-action-client ()\n",
    "  (setf *move-base-client* (actionlib:make-action-client\n",
    "                            \"move_base\"\n",
    "                            \"move_base_msgs/MoveBaseAction\"))\n",
    "  (roslisp:ros-info (navigate-map)\n",
    "                    \"Waiting for move_base action server...\")\n",
    "  ;; workaround for race condition in actionlib wait-for server\n",
    "  (loop until (actionlib:wait-for-server *move-base-client*))\n",
    "  (roslisp:ros-info (navigate-map) \n",
    "                    \"move_base action client created.\"))\n",
    "\n",
    "(defun get-action-client ()\n",
    "  (when (null *move-base-client*)\n",
    "    (init-action-client))\n",
    "  *move-base-client*)\n",
    "\n",
    "(defun make-move-base-goal (pose-stamped-goal)\n",
    "  (actionlib:make-action-goal (get-action-client)\n",
    "    target_pose pose-stamped-goal))\n",
    "\n",
    "(defun call-move-base-action (frame-id translation rotation)\n",
    "  (unless (eq roslisp::*node-status* :running)\n",
    "    (roslisp:start-ros-node \"move-base-lisp-client\"))\n",
    "\n",
    "  (multiple-value-bind (result status)\n",
    "      (let ((actionlib:*action-server-timeout* 10.0)\n",
    "            (the-goal (cl-tf:to-msg \n",
    "                       (cl-tf:make-pose-stamped\n",
    "                        frame-id\n",
    "                        (roslisp::ros-time)\n",
    "                        translation rotation))))\n",
    "        (actionlib:call-goal\n",
    "         (get-action-client)\n",
    "         (make-move-base-goal the-goal)))\n",
    "    (roslisp:ros-info (navigate-map) \"Move_base action finished.\")\n",
    "    (values result status)))"
   ]
  }
 ],
 "metadata": {
  "kernelspec": {
   "display_name": "Common Lisp",
   "language": "common-lisp",
   "name": "common-lisp"
  },
  "language_info": {
   "codemirror_mode": "text/x-common-lisp",
   "file_extension": ".lisp",
   "mimetype": "text/x-common-lisp",
   "name": "common-lisp",
   "pygments_lexer": "common-lisp",
   "version": "2.0.1.debian"
  }
 },
 "nbformat": 4,
 "nbformat_minor": 5
}
